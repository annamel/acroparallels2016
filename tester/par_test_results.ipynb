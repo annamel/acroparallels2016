{
 "cells": [
  {
   "cell_type": "code",
   "execution_count": null,
   "metadata": {
    "collapsed": true
   },
   "outputs": [],
   "source": [
    "import pandas as pd\n",
    "import numpy as np\n",
    "import seaborn as sns\n",
    "import matplotlib.pyplot as plt\n",
    "import matplotlib\n",
    "\n",
    "import platform\n",
    "import os\n",
    "import multiprocessing\n",
    "import datetime\n",
    "\n",
    "%matplotlib inline"
   ]
  },
  {
   "cell_type": "code",
   "execution_count": null,
   "metadata": {
    "collapsed": false
   },
   "outputs": [],
   "source": [
    "print \"Version:\", platform.platform()\n",
    "print \"CPU cores:\", multiprocessing.cpu_count()\n",
    "print \"Page size:\", os.sysconf('SC_PAGE_SIZE')\n",
    "print \"Current time:\", datetime.datetime.now()"
   ]
  },
  {
   "cell_type": "markdown",
   "metadata": {},
   "source": [
    "# Parallel test results.\n",
    "Value - amount of tests passed."
   ]
  },
  {
   "cell_type": "code",
   "execution_count": null,
   "metadata": {
    "collapsed": false
   },
   "outputs": [],
   "source": [
    "data = pd.read_csv(\"par_test_results.txt\", sep=' ', header=None, names=[\"lib\", 'test', 'test_name', 'nth', 'time'])"
   ]
  },
  {
   "cell_type": "code",
   "execution_count": null,
   "metadata": {
    "collapsed": false
   },
   "outputs": [],
   "source": [
    "data[\"testid\"] = data.pop(\"test\") + \"_\" + data.pop(\"test_name\")\n",
    "data = data.reindex_axis(sorted(data.columns), axis=1)\n",
    "tests = sorted(list(set(data['testid'].tolist())))\n",
    "libs = sorted(list(set(data['lib'].tolist())))"
   ]
  },
  {
   "cell_type": "code",
   "execution_count": null,
   "metadata": {
    "collapsed": false
   },
   "outputs": [],
   "source": [
    "ranks = pd.DataFrame(index=libs, columns=tests).fillna(0)\n",
    "\n",
    "datarank = data[['lib', 'testid', 'time']]\n",
    "for test in tests:\n",
    "    testf = datarank[datarank.testid == test]\n",
    "    for index, row in testf.iterrows():\n",
    "        if row.time != -1:     \n",
    "            ranks.set_value(row['lib'], row['testid'], ranks.loc[row['lib']][row['testid']] + 1)"
   ]
  },
  {
   "cell_type": "code",
   "execution_count": null,
   "metadata": {
    "collapsed": false,
    "scrolled": false
   },
   "outputs": [],
   "source": [
    "colors = [\"pale red\"] + [\"amber\"] * 62 + [\"faded green\"]\n",
    "cmap = matplotlib.colors.ListedColormap(sns.xkcd_palette(colors))\n",
    "\n",
    "sns.set(font_scale=2)\n",
    "sns.set_style(\"whitegrid\")\n",
    "plt.figure(figsize=(20,10))\n",
    "sns.plt.title(\"Points for tests\", fontsize=80, y=1.03)\n",
    "sns.heatmap(ranks, annot=True, cmap=cmap, linewidths=.5)\n",
    "plt.show()"
   ]
  },
  {
   "cell_type": "markdown",
   "metadata": {},
   "source": [
    "## Plotting graphs\n",
    "based on times and threads"
   ]
  },
  {
   "cell_type": "code",
   "execution_count": null,
   "metadata": {
    "collapsed": false,
    "scrolled": false
   },
   "outputs": [],
   "source": [
    "passed_data = (data[data[\"time\"] != -1]).copy()\n",
    "passed_data[\"1/time\"] = passed_data[\"time\"].apply(lambda x: 1/x)\n",
    "\n",
    "sns.set(style=\"ticks\", context=\"talk\", font_scale=1)\n",
    "for test in tests:\n",
    "    test_data = passed_data[passed_data.testid == test]\n",
    "    pal = sns.cubehelix_palette(4, 1.5, .75, light=.6, dark=.2)\n",
    "    g = sns.lmplot(x=\"nth\", y=\"1/time\", hue=\"lib\", data=test_data, palette=pal, size=9)\n",
    "    plt.title(test, fontsize=40)\n",
    "    g.set_axis_labels(\"Number of threads\", \"1 / Time\")\n",
    "    plt.show()"
   ]
  },
  {
   "cell_type": "code",
   "execution_count": null,
   "metadata": {
    "collapsed": false
   },
   "outputs": [],
   "source": [
    "from IPython.display import HTML\n",
    "HTML('''<script>\n",
    "code_show=true; \n",
    "function code_toggle() {\n",
    " if (code_show){\n",
    " $('div.input').hide();\n",
    " } else {\n",
    " $('div.input').show();\n",
    " }\n",
    " code_show = !code_show\n",
    "} \n",
    "$( document ).ready(code_toggle);\n",
    "</script>\n",
    "<form action=\"javascript:code_toggle()\"><input type=\"submit\" value=\"Click here to toggle on/off the raw code.\"></form>\n",
    "\n",
    "<footer id=\"attribution\" style=\"float:right; color:#999; background:#fff;\">\n",
    "Created with Jupyter by dokhlopkov.\n",
    "</footer>''')"
   ]
  },
  {
   "cell_type": "code",
   "execution_count": null,
   "metadata": {
    "collapsed": true
   },
   "outputs": [],
   "source": []
  }
 ],
 "metadata": {
  "kernelspec": {
   "display_name": "Python 2",
   "language": "python",
   "name": "python2"
  },
  "language_info": {
   "codemirror_mode": {
    "name": "ipython",
    "version": 2
   },
   "file_extension": ".py",
   "mimetype": "text/x-python",
   "name": "python",
   "nbconvert_exporter": "python",
   "pygments_lexer": "ipython2",
   "version": "2.7.11"
  }
 },
 "nbformat": 4,
 "nbformat_minor": 0
}
