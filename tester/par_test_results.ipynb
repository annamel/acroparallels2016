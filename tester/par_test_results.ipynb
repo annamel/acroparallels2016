{
 "cells": [
  {
   "cell_type": "code",
   "execution_count": 1,
   "metadata": {
    "collapsed": true
   },
   "outputs": [],
   "source": [
    "import pandas as pd\n",
    "import numpy as np\n",
    "import seaborn as sns\n",
    "import matplotlib.pyplot as plt\n",
    "import matplotlib\n",
    "\n",
    "import platform\n",
    "import os\n",
    "import multiprocessing\n",
    "import datetime\n",
    "\n",
    "%matplotlib inline"
   ]
  },
  {
   "cell_type": "markdown",
   "metadata": {},
   "source": [
    "# Parallel test results."
   ]
  },
  {
   "cell_type": "code",
   "execution_count": 2,
   "metadata": {
    "collapsed": false
   },
   "outputs": [],
   "source": [
    "data = pd.read_csv(\"par_test_results.txt\", sep=' ', header=None, names=[\"lib\", 'test', 'test_name'] + [\"%d_%d\"%(i,j) for i in range(7) for j in range (4)])"
   ]
  },
  {
   "cell_type": "code",
   "execution_count": 3,
   "metadata": {
    "collapsed": false
   },
   "outputs": [],
   "source": [
    "data[\"testid\"] = data[\"test\"] + \"_\" + data[\"test_name\"]\n",
    "data = data.reindex_axis(sorted(data.columns), axis=1)\n",
    "tests = sorted(list(set(data['testid'].tolist())))\n",
    "libs = sorted(list(set(data['lib'].tolist())))"
   ]
  },
  {
   "cell_type": "code",
   "execution_count": 4,
   "metadata": {
    "collapsed": false
   },
   "outputs": [],
   "source": [
    "for loop in range(7):\n",
    "    data[\"mean%d\"%(loop)] = data[[\"%d_%d\" % (loop, i) for i in range(4)]].mean(axis=1)\n",
    "    data[\"std%d\"%(loop)] = data[[\"%d_%d\" % (loop, i) for i in range(4)]].std(axis=1)\n",
    "    \n",
    "data.drop([\"%d_%d\"%(i,j) for i in range(7) for j in range (4)], inplace=True, axis=1)\n",
    "\n",
    "means = [\"mean%d\"%(i) for i in range(7)]\n",
    "stds = [\"std%d\"%(i) for i in range(7)]"
   ]
  },
  {
   "cell_type": "code",
   "execution_count": 5,
   "metadata": {
    "collapsed": true
   },
   "outputs": [],
   "source": [
    "# df = pd.DataFrame(columns=[\"lib\", \"testid\", \"time\", \"mean\", \"std\"])\n",
    "# for "
   ]
  },
  {
   "cell_type": "code",
   "execution_count": 6,
   "metadata": {
    "collapsed": false
   },
   "outputs": [
    {
     "name": "stdout",
     "output_type": "stream",
     "text": [
      "Version: Darwin-14.5.0-x86_64-i386-64bit\n",
      "CPU cores: 8\n",
      "Page size: 4096\n",
      "Current time: 2016-05-14 22:17:56.348830\n"
     ]
    }
   ],
   "source": [
    "print \"Version:\", platform.platform()\n",
    "print \"CPU cores:\", multiprocessing.cpu_count()\n",
    "print \"Page size:\", os.sysconf('SC_PAGE_SIZE')\n",
    "print \"Current time:\", datetime.datetime.now()"
   ]
  },
  {
   "cell_type": "code",
   "execution_count": 7,
   "metadata": {
    "collapsed": false
   },
   "outputs": [
    {
     "data": {
      "text/html": [
       "<div>\n",
       "<table border=\"1\" class=\"dataframe\">\n",
       "  <thead>\n",
       "    <tr style=\"text-align: right;\">\n",
       "      <th></th>\n",
       "      <th>lib</th>\n",
       "      <th>test</th>\n",
       "      <th>test_name</th>\n",
       "      <th>testid</th>\n",
       "      <th>mean0</th>\n",
       "      <th>std0</th>\n",
       "      <th>mean1</th>\n",
       "      <th>std1</th>\n",
       "      <th>mean2</th>\n",
       "      <th>std2</th>\n",
       "      <th>mean3</th>\n",
       "      <th>std3</th>\n",
       "      <th>mean4</th>\n",
       "      <th>std4</th>\n",
       "      <th>mean5</th>\n",
       "      <th>std5</th>\n",
       "      <th>mean6</th>\n",
       "      <th>std6</th>\n",
       "    </tr>\n",
       "  </thead>\n",
       "  <tbody>\n",
       "    <tr>\n",
       "      <th>0</th>\n",
       "      <td>dkopyrin</td>\n",
       "      <td>dkopyrin</td>\n",
       "      <td>test_ht</td>\n",
       "      <td>dkopyrin_test_ht</td>\n",
       "      <td>0.025750</td>\n",
       "      <td>0.000871</td>\n",
       "      <td>0.026100</td>\n",
       "      <td>0.001788</td>\n",
       "      <td>0.045816</td>\n",
       "      <td>0.018034</td>\n",
       "      <td>0.059716</td>\n",
       "      <td>0.014010</td>\n",
       "      <td>0.091913</td>\n",
       "      <td>0.003818</td>\n",
       "      <td>0.172209</td>\n",
       "      <td>0.004890</td>\n",
       "      <td>0.333990</td>\n",
       "      <td>0.009234</td>\n",
       "    </tr>\n",
       "    <tr>\n",
       "      <th>1</th>\n",
       "      <td>dkopyrin</td>\n",
       "      <td>dkopyrin</td>\n",
       "      <td>test_ladder</td>\n",
       "      <td>dkopyrin_test_ladder</td>\n",
       "      <td>0.408951</td>\n",
       "      <td>0.004072</td>\n",
       "      <td>0.515326</td>\n",
       "      <td>0.184795</td>\n",
       "      <td>0.212801</td>\n",
       "      <td>0.028774</td>\n",
       "      <td>0.211542</td>\n",
       "      <td>0.079943</td>\n",
       "      <td>0.155595</td>\n",
       "      <td>0.014574</td>\n",
       "      <td>0.211631</td>\n",
       "      <td>0.044685</td>\n",
       "      <td>0.220751</td>\n",
       "      <td>0.057518</td>\n",
       "    </tr>\n",
       "    <tr>\n",
       "      <th>2</th>\n",
       "      <td>dkopyrin</td>\n",
       "      <td>dkopyrin</td>\n",
       "      <td>test_stairs</td>\n",
       "      <td>dkopyrin_test_stairs</td>\n",
       "      <td>0.411465</td>\n",
       "      <td>0.053488</td>\n",
       "      <td>0.337785</td>\n",
       "      <td>0.216872</td>\n",
       "      <td>0.141634</td>\n",
       "      <td>0.012234</td>\n",
       "      <td>0.138094</td>\n",
       "      <td>0.004824</td>\n",
       "      <td>0.118854</td>\n",
       "      <td>0.004151</td>\n",
       "      <td>0.130977</td>\n",
       "      <td>0.009223</td>\n",
       "      <td>0.162467</td>\n",
       "      <td>0.011633</td>\n",
       "    </tr>\n",
       "    <tr>\n",
       "      <th>3</th>\n",
       "      <td>dkopyrin</td>\n",
       "      <td>enikitenko</td>\n",
       "      <td>test1</td>\n",
       "      <td>enikitenko_test1</td>\n",
       "      <td>0.450553</td>\n",
       "      <td>0.026540</td>\n",
       "      <td>0.237979</td>\n",
       "      <td>0.010894</td>\n",
       "      <td>0.172780</td>\n",
       "      <td>0.045444</td>\n",
       "      <td>0.141838</td>\n",
       "      <td>0.005375</td>\n",
       "      <td>0.143590</td>\n",
       "      <td>0.002796</td>\n",
       "      <td>0.155519</td>\n",
       "      <td>0.002589</td>\n",
       "      <td>0.162778</td>\n",
       "      <td>0.007333</td>\n",
       "    </tr>\n",
       "    <tr>\n",
       "      <th>4</th>\n",
       "      <td>enikitenko</td>\n",
       "      <td>dkopyrin</td>\n",
       "      <td>test_ht</td>\n",
       "      <td>dkopyrin_test_ht</td>\n",
       "      <td>0.013824</td>\n",
       "      <td>0.000985</td>\n",
       "      <td>0.013467</td>\n",
       "      <td>0.001289</td>\n",
       "      <td>0.021106</td>\n",
       "      <td>0.001902</td>\n",
       "      <td>0.029673</td>\n",
       "      <td>0.003478</td>\n",
       "      <td>0.050792</td>\n",
       "      <td>0.002064</td>\n",
       "      <td>0.096946</td>\n",
       "      <td>0.001033</td>\n",
       "      <td>0.195143</td>\n",
       "      <td>0.003650</td>\n",
       "    </tr>\n",
       "    <tr>\n",
       "      <th>5</th>\n",
       "      <td>enikitenko</td>\n",
       "      <td>dkopyrin</td>\n",
       "      <td>test_ladder</td>\n",
       "      <td>dkopyrin_test_ladder</td>\n",
       "      <td>0.257806</td>\n",
       "      <td>0.009385</td>\n",
       "      <td>0.158766</td>\n",
       "      <td>0.003314</td>\n",
       "      <td>0.122389</td>\n",
       "      <td>0.011339</td>\n",
       "      <td>0.098806</td>\n",
       "      <td>0.003991</td>\n",
       "      <td>0.093928</td>\n",
       "      <td>0.005200</td>\n",
       "      <td>0.088754</td>\n",
       "      <td>0.003690</td>\n",
       "      <td>0.094822</td>\n",
       "      <td>0.003619</td>\n",
       "    </tr>\n",
       "    <tr>\n",
       "      <th>6</th>\n",
       "      <td>enikitenko</td>\n",
       "      <td>dkopyrin</td>\n",
       "      <td>test_stairs</td>\n",
       "      <td>dkopyrin_test_stairs</td>\n",
       "      <td>0.220700</td>\n",
       "      <td>0.007844</td>\n",
       "      <td>0.142313</td>\n",
       "      <td>0.005801</td>\n",
       "      <td>0.110684</td>\n",
       "      <td>0.013827</td>\n",
       "      <td>0.090382</td>\n",
       "      <td>0.004728</td>\n",
       "      <td>0.087851</td>\n",
       "      <td>0.004104</td>\n",
       "      <td>0.089023</td>\n",
       "      <td>0.005734</td>\n",
       "      <td>0.083523</td>\n",
       "      <td>0.008504</td>\n",
       "    </tr>\n",
       "    <tr>\n",
       "      <th>7</th>\n",
       "      <td>enikitenko</td>\n",
       "      <td>enikitenko</td>\n",
       "      <td>test1</td>\n",
       "      <td>enikitenko_test1</td>\n",
       "      <td>0.284213</td>\n",
       "      <td>0.007166</td>\n",
       "      <td>0.151260</td>\n",
       "      <td>0.006943</td>\n",
       "      <td>0.133611</td>\n",
       "      <td>0.014769</td>\n",
       "      <td>0.087706</td>\n",
       "      <td>0.004406</td>\n",
       "      <td>0.091876</td>\n",
       "      <td>0.002874</td>\n",
       "      <td>0.090783</td>\n",
       "      <td>0.003867</td>\n",
       "      <td>0.091228</td>\n",
       "      <td>0.002680</td>\n",
       "    </tr>\n",
       "    <tr>\n",
       "      <th>8</th>\n",
       "      <td>sabramov</td>\n",
       "      <td>dkopyrin</td>\n",
       "      <td>test_ht</td>\n",
       "      <td>dkopyrin_test_ht</td>\n",
       "      <td>0.085028</td>\n",
       "      <td>0.004317</td>\n",
       "      <td>1.279025</td>\n",
       "      <td>0.054656</td>\n",
       "      <td>2.502731</td>\n",
       "      <td>0.088321</td>\n",
       "      <td>7.448344</td>\n",
       "      <td>0.059730</td>\n",
       "      <td>15.038019</td>\n",
       "      <td>1.130379</td>\n",
       "      <td>31.626419</td>\n",
       "      <td>0.156555</td>\n",
       "      <td>55.161540</td>\n",
       "      <td>10.957789</td>\n",
       "    </tr>\n",
       "    <tr>\n",
       "      <th>9</th>\n",
       "      <td>sabramov</td>\n",
       "      <td>dkopyrin</td>\n",
       "      <td>test_ladder</td>\n",
       "      <td>dkopyrin_test_ladder</td>\n",
       "      <td>1.715268</td>\n",
       "      <td>0.093929</td>\n",
       "      <td>13.498208</td>\n",
       "      <td>0.185359</td>\n",
       "      <td>13.467219</td>\n",
       "      <td>0.635422</td>\n",
       "      <td>20.026075</td>\n",
       "      <td>0.224858</td>\n",
       "      <td>20.489580</td>\n",
       "      <td>0.466208</td>\n",
       "      <td>21.129666</td>\n",
       "      <td>0.052057</td>\n",
       "      <td>21.062582</td>\n",
       "      <td>0.074602</td>\n",
       "    </tr>\n",
       "    <tr>\n",
       "      <th>10</th>\n",
       "      <td>sabramov</td>\n",
       "      <td>enikitenko</td>\n",
       "      <td>test1</td>\n",
       "      <td>enikitenko_test1</td>\n",
       "      <td>0.975233</td>\n",
       "      <td>0.078355</td>\n",
       "      <td>8.127507</td>\n",
       "      <td>1.191871</td>\n",
       "      <td>6.928049</td>\n",
       "      <td>0.132626</td>\n",
       "      <td>10.546000</td>\n",
       "      <td>0.131029</td>\n",
       "      <td>11.038559</td>\n",
       "      <td>0.052876</td>\n",
       "      <td>11.177579</td>\n",
       "      <td>0.082295</td>\n",
       "      <td>11.064122</td>\n",
       "      <td>0.073467</td>\n",
       "    </tr>\n",
       "  </tbody>\n",
       "</table>\n",
       "</div>"
      ],
      "text/plain": [
       "           lib        test    test_name                testid     mean0  \\\n",
       "0     dkopyrin    dkopyrin      test_ht      dkopyrin_test_ht  0.025750   \n",
       "1     dkopyrin    dkopyrin  test_ladder  dkopyrin_test_ladder  0.408951   \n",
       "2     dkopyrin    dkopyrin  test_stairs  dkopyrin_test_stairs  0.411465   \n",
       "3     dkopyrin  enikitenko        test1      enikitenko_test1  0.450553   \n",
       "4   enikitenko    dkopyrin      test_ht      dkopyrin_test_ht  0.013824   \n",
       "5   enikitenko    dkopyrin  test_ladder  dkopyrin_test_ladder  0.257806   \n",
       "6   enikitenko    dkopyrin  test_stairs  dkopyrin_test_stairs  0.220700   \n",
       "7   enikitenko  enikitenko        test1      enikitenko_test1  0.284213   \n",
       "8     sabramov    dkopyrin      test_ht      dkopyrin_test_ht  0.085028   \n",
       "9     sabramov    dkopyrin  test_ladder  dkopyrin_test_ladder  1.715268   \n",
       "10    sabramov  enikitenko        test1      enikitenko_test1  0.975233   \n",
       "\n",
       "        std0      mean1      std1      mean2      std2      mean3      std3  \\\n",
       "0   0.000871   0.026100  0.001788   0.045816  0.018034   0.059716  0.014010   \n",
       "1   0.004072   0.515326  0.184795   0.212801  0.028774   0.211542  0.079943   \n",
       "2   0.053488   0.337785  0.216872   0.141634  0.012234   0.138094  0.004824   \n",
       "3   0.026540   0.237979  0.010894   0.172780  0.045444   0.141838  0.005375   \n",
       "4   0.000985   0.013467  0.001289   0.021106  0.001902   0.029673  0.003478   \n",
       "5   0.009385   0.158766  0.003314   0.122389  0.011339   0.098806  0.003991   \n",
       "6   0.007844   0.142313  0.005801   0.110684  0.013827   0.090382  0.004728   \n",
       "7   0.007166   0.151260  0.006943   0.133611  0.014769   0.087706  0.004406   \n",
       "8   0.004317   1.279025  0.054656   2.502731  0.088321   7.448344  0.059730   \n",
       "9   0.093929  13.498208  0.185359  13.467219  0.635422  20.026075  0.224858   \n",
       "10  0.078355   8.127507  1.191871   6.928049  0.132626  10.546000  0.131029   \n",
       "\n",
       "        mean4      std4      mean5      std5      mean6       std6  \n",
       "0    0.091913  0.003818   0.172209  0.004890   0.333990   0.009234  \n",
       "1    0.155595  0.014574   0.211631  0.044685   0.220751   0.057518  \n",
       "2    0.118854  0.004151   0.130977  0.009223   0.162467   0.011633  \n",
       "3    0.143590  0.002796   0.155519  0.002589   0.162778   0.007333  \n",
       "4    0.050792  0.002064   0.096946  0.001033   0.195143   0.003650  \n",
       "5    0.093928  0.005200   0.088754  0.003690   0.094822   0.003619  \n",
       "6    0.087851  0.004104   0.089023  0.005734   0.083523   0.008504  \n",
       "7    0.091876  0.002874   0.090783  0.003867   0.091228   0.002680  \n",
       "8   15.038019  1.130379  31.626419  0.156555  55.161540  10.957789  \n",
       "9   20.489580  0.466208  21.129666  0.052057  21.062582   0.074602  \n",
       "10  11.038559  0.052876  11.177579  0.082295  11.064122   0.073467  "
      ]
     },
     "execution_count": 7,
     "metadata": {},
     "output_type": "execute_result"
    }
   ],
   "source": [
    "# data"
   ]
  },
  {
   "cell_type": "code",
   "execution_count": 8,
   "metadata": {
    "collapsed": true
   },
   "outputs": [],
   "source": [
    "p_timeout = 0\n",
    "p_fail = -5\n",
    "\n",
    "p_passed = 5\n",
    "\n",
    "p_all_passed = 5\n",
    "p_all_passed_with_timeout = 3"
   ]
  },
  {
   "cell_type": "code",
   "execution_count": 9,
   "metadata": {
    "collapsed": true
   },
   "outputs": [],
   "source": [
    "ranks = pd.DataFrame(index=libs, columns=tests).fillna(p_fail)\n",
    "\n",
    "datarank = data[['lib', 'testid']]\n",
    "for test in tests:\n",
    "    testf = datarank[datarank.testid == test]\n",
    "\n",
    "    for index, row in testf.iterrows():\n",
    "        if len(row[row == -1]) == 0:     \n",
    "            ranks.set_value(row['lib'], row['testid'], p_passed)\n",
    "        else:\n",
    "            ranks.set_value(row['lib'], row['testid'], p_timeout)\n",
    "            \n",
    "# ranks['All test passed'] = np.zeros(len(libs))\n",
    "# all_passed = ranks[ranks <= p_timeout].any(axis=1)\n",
    "# \n",
    "# for i, item in all_passed.iteritems():\n",
    "#     if item == False: \n",
    "#         ranks.set_value(i, 'All test passed', p_all_passed) "
   ]
  },
  {
   "cell_type": "code",
   "execution_count": 10,
   "metadata": {
    "collapsed": false
   },
   "outputs": [
    {
     "data": {
      "image/png": "[encoded data removed]",
      "text/plain": [
       "<matplotlib.figure.Figure at 0x10ed2d3d0>"
      ]
     },
     "metadata": {},
     "output_type": "display_data"
    }
   ],
   "source": [
    "colors = [\"pale red\", \"pale red\", \"pale red\", \"pale red\", \"pale red\", \"amber\", \"amber\", \"amber\", \"amber\"]\n",
    "cmap = matplotlib.colors.ListedColormap(sns.xkcd_palette(colors) + sns.light_palette(\"green\", n_colors=8)[1:])\n",
    "\n",
    "sns.set(font_scale=2)\n",
    "sns.set_style(\"whitegrid\")\n",
    "plt.figure(figsize=(20,10))\n",
    "sns.plt.title(\"Points for tests\", fontsize=80, y=1.03)\n",
    "sns.heatmap(ranks, annot=True, cmap=cmap, center=0, linewidths=.5)\n",
    "plt.show()"
   ]
  },
  {
   "cell_type": "code",
   "execution_count": 11,
   "metadata": {
    "collapsed": false
   },
   "outputs": [
    {
     "data": {
      "text/html": [
       "<script>\n",
       "code_show=true; \n",
       "function code_toggle() {\n",
       " if (code_show){\n",
       " $('div.input').hide();\n",
       " } else {\n",
       " $('div.input').show();\n",
       " }\n",
       " code_show = !code_show\n",
       "} \n",
       "$( document ).ready(code_toggle);\n",
       "</script>\n",
       "<form action=\"javascript:code_toggle()\"><input type=\"submit\" value=\"Click here to toggle on/off the raw code.\"></form>\n",
       "\n",
       "<footer id=\"attribution\" style=\"float:right; color:#999; background:#fff;\">\n",
       "Created with Jupyter by dokhlopkov.\n",
       "</footer>"
      ],
      "text/plain": [
       "<IPython.core.display.HTML object>"
      ]
     },
     "execution_count": 11,
     "metadata": {},
     "output_type": "execute_result"
    }
   ],
   "source": [
    "from IPython.display import HTML\n",
    "HTML('''<script>\n",
    "code_show=true; \n",
    "function code_toggle() {\n",
    " if (code_show){\n",
    " $('div.input').hide();\n",
    " } else {\n",
    " $('div.input').show();\n",
    " }\n",
    " code_show = !code_show\n",
    "} \n",
    "$( document ).ready(code_toggle);\n",
    "</script>\n",
    "<form action=\"javascript:code_toggle()\"><input type=\"submit\" value=\"Click here to toggle on/off the raw code.\"></form>\n",
    "\n",
    "<footer id=\"attribution\" style=\"float:right; color:#999; background:#fff;\">\n",
    "Created with Jupyter by dokhlopkov.\n",
    "</footer>''')"
   ]
  },
  {
   "cell_type": "code",
   "execution_count": null,
   "metadata": {
    "collapsed": true
   },
   "outputs": [],
   "source": []
  }
 ],
 "metadata": {
  "kernelspec": {
   "display_name": "Python 2",
   "language": "python",
   "name": "python2"
  },
  "language_info": {
   "codemirror_mode": {
    "name": "ipython",
    "version": 2
   },
   "file_extension": ".py",
   "mimetype": "text/x-python",
   "name": "python",
   "nbconvert_exporter": "python",
   "pygments_lexer": "ipython2",
   "version": "2.7.11"
  }
 },
 "nbformat": 4,
 "nbformat_minor": 0
}
