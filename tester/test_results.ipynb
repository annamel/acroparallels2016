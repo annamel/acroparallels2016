{
 "cells": [
  {
   "cell_type": "code",
   "execution_count": null,
   "metadata": {
    "collapsed": true
   },
   "outputs": [],
   "source": [
    "# consts\n",
    "# number of iterations:\n",
    "times = 10"
   ]
  },
  {
   "cell_type": "code",
   "execution_count": null,
   "metadata": {
    "collapsed": true
   },
   "outputs": [],
   "source": [
    "import pandas as pd\n",
    "import numpy as np\n",
    "import seaborn as sns\n",
    "import matplotlib.pyplot as plt\n",
    "import matplotlib\n",
    "\n",
    "%matplotlib inline"
   ]
  },
  {
   "cell_type": "markdown",
   "metadata": {
    "collapsed": false
   },
   "source": [
    "# Tester results.\n"
   ]
  },
  {
   "cell_type": "code",
   "execution_count": null,
   "metadata": {
    "collapsed": false,
    "scrolled": true
   },
   "outputs": [],
   "source": [
    "from IPython.display import HTML\n",
    "\n",
    "HTML('''<script>\n",
    "code_show=true; \n",
    "function code_toggle() {\n",
    " if (code_show){\n",
    " $('div.input').hide();\n",
    " } else {\n",
    " $('div.input').show();\n",
    " }\n",
    " code_show = !code_show\n",
    "} \n",
    "$( document ).ready(code_toggle);\n",
    "</script>\n",
    "<form action=\"javascript:code_toggle()\"><input type=\"submit\" value=\"Click here to toggle on/off the raw code.\"></form>''')"
   ]
  },
  {
   "cell_type": "code",
   "execution_count": null,
   "metadata": {
    "collapsed": false
   },
   "outputs": [],
   "source": [
    "data = pd.read_csv(\"test_result.txt\", sep=' ', header=None, names=[\"lib\", 'test', 'test_name'] + [i for i in range(times)])"
   ]
  },
  {
   "cell_type": "code",
   "execution_count": null,
   "metadata": {
    "collapsed": false
   },
   "outputs": [],
   "source": [
    "values = [i for i in range(times)]\n",
    "data[\"mean\"] = data[values].mean(axis=1)\n",
    "data[\"std\"]  = data[values].std(axis=1)\n",
    "data[\"testid\"] = data[\"test\"] + \"_\" + data[\"test_name\"]\n",
    "tests = set(data['testid'].tolist())\n",
    "libs = set(data['lib'].tolist())"
   ]
  },
  {
   "cell_type": "markdown",
   "metadata": {},
   "source": [
    "## Passed and Failed tests"
   ]
  },
  {
   "cell_type": "code",
   "execution_count": null,
   "metadata": {
    "collapsed": false
   },
   "outputs": [],
   "source": [
    "passedf = pd.DataFrame(index=libs, columns=tests).fillna(4.75)\n",
    "\n",
    "dataslice = data[['lib', 'testid']]\n",
    "for index, row in dataslice.iterrows():\n",
    "    passedf.set_value(row['lib'], row['testid'], 2.2)"
   ]
  },
  {
   "cell_type": "code",
   "execution_count": null,
   "metadata": {
    "collapsed": false
   },
   "outputs": [],
   "source": [
    "sns.set(font_scale=2)\n",
    "sns.set_style(\"whitegrid\")\n",
    "row_labels = libs\n",
    "col_labels = tests\n",
    "plt.figure(figsize=(20,10))\n",
    "plt.title(\"Test passage\", fontsize=100,  y=1.04)\n",
    "plt.imshow(passedf, interpolation='none', vmin=0, vmax=5, cmap=\"spectral\")\n",
    "plt.xticks(range(len(tests)), col_labels, rotation=90)\n",
    "plt.yticks(range(len(libs)), row_labels)\n",
    "plt.show()"
   ]
  },
  {
   "cell_type": "markdown",
   "metadata": {},
   "source": [
    "## Results by each test.\n",
    "There are only libs that passed the test."
   ]
  },
  {
   "cell_type": "code",
   "execution_count": null,
   "metadata": {
    "collapsed": false,
    "scrolled": false
   },
   "outputs": [],
   "source": [
    "val = data.set_index(data[\"testid\"]).drop([\"test\", \"test_name\", \"mean\", \"std\", 'testid'], axis=1)\n",
    "sns.set(font_scale=4)\n",
    "for test in tests:\n",
    "    plt.figure(figsize=(45, 15))\n",
    "    sns.plt.title(test, fontsize=100, y=1.03)\n",
    "    a = val[val.index == test]\n",
    "    a = a.set_index(a['lib']).drop([\"lib\"], axis=1).transpose()\n",
    "    ax = sns.boxplot(data=a)\n",
    "    sns.swarmplot(data=a, size=15, ax=ax)\n",
    "    plt.show()"
   ]
  },
  {
   "cell_type": "markdown",
   "metadata": {},
   "source": [
    "## Raw results \n",
    "with mean and std"
   ]
  },
  {
   "cell_type": "code",
   "execution_count": null,
   "metadata": {
    "collapsed": false
   },
   "outputs": [],
   "source": [
    "pd.set_option('display.max_rows', len(data))\n",
    "data.drop(values, axis=1)"
   ]
  },
  {
   "cell_type": "markdown",
   "metadata": {},
   "source": [
    "#### Made by dokhlopkov (ohld@github, ohl.d@yandex.ru)"
   ]
  }
 ],
 "metadata": {
  "kernelspec": {
   "display_name": "Python 2",
   "language": "python",
   "name": "python2"
  },
  "language_info": {
   "codemirror_mode": {
    "name": "ipython",
    "version": 2
   },
   "file_extension": ".py",
   "mimetype": "text/x-python",
   "name": "python",
   "nbconvert_exporter": "python",
   "pygments_lexer": "ipython2",
   "version": "2.7.11"
  }
 },
 "nbformat": 4,
 "nbformat_minor": 0
}
